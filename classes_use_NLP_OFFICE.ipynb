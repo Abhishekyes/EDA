{
  "nbformat": 4,
  "nbformat_minor": 0,
  "metadata": {
    "colab": {
      "provenance": [],
      "authorship_tag": "ABX9TyMpkZYqK6VgrfGawW5UBgoz",
      "include_colab_link": true
    },
    "kernelspec": {
      "name": "python3",
      "display_name": "Python 3"
    },
    "language_info": {
      "name": "python"
    }
  },
  "cells": [
    {
      "cell_type": "markdown",
      "metadata": {
        "id": "view-in-github",
        "colab_type": "text"
      },
      "source": [
        "<a href=\"https://colab.research.google.com/github/Abhishekyes/EDA/blob/main/classes_use_NLP_OFFICE.ipynb\" target=\"_parent\"><img src=\"https://colab.research.google.com/assets/colab-badge.svg\" alt=\"Open In Colab\"/></a>"
      ]
    },
    {
      "cell_type": "code",
      "source": [
        "data = pd.read_csv(\"/content/machine-learning-sample.csv\",header = None)\n"
      ],
      "metadata": {
        "id": "SnWYtDt0Xdmq"
      },
      "execution_count": 7,
      "outputs": []
    },
    {
      "cell_type": "code",
      "source": [
        "df = list(data[1])"
      ],
      "metadata": {
        "id": "g_REJ6egXf8-"
      },
      "execution_count": 8,
      "outputs": []
    },
    {
      "cell_type": "code",
      "source": [
        "y = data[0].map({'INF':0, 'OPT':1, 'REF':2, 'POW':3, 'FUT':4, 'MET':5})"
      ],
      "metadata": {
        "id": "zwtN06UAXf4r"
      },
      "execution_count": 9,
      "outputs": []
    },
    {
      "cell_type": "code",
      "source": [],
      "metadata": {
        "id": "_OaflAkGXfyb"
      },
      "execution_count": null,
      "outputs": []
    },
    {
      "cell_type": "code",
      "source": [],
      "metadata": {
        "id": "95v7Pk21Xft1"
      },
      "execution_count": null,
      "outputs": []
    },
    {
      "cell_type": "code",
      "execution_count": 16,
      "metadata": {
        "colab": {
          "base_uri": "https://localhost:8080/"
        },
        "id": "-fQumkbIXIiy",
        "outputId": "68bda283-d7a3-4c44-c38a-cb8945e56349"
      },
      "outputs": [
        {
          "output_type": "stream",
          "name": "stderr",
          "text": [
            "[nltk_data] Downloading package punkt to /root/nltk_data...\n",
            "[nltk_data]   Package punkt is already up-to-date!\n",
            "[nltk_data] Downloading package stopwords to /root/nltk_data...\n",
            "[nltk_data]   Package stopwords is already up-to-date!\n",
            "[nltk_data] Downloading package wordnet to /root/nltk_data...\n",
            "[nltk_data]   Package wordnet is already up-to-date!\n"
          ]
        }
      ],
      "source": [
        "import pandas as pd\n",
        "import numpy as np \n",
        "import matplotlib.pyplot as plt\n",
        "import seaborn as sns\n",
        "import nltk\n",
        "from nltk.corpus import stopwords\n",
        "from nltk.stem import WordNetLemmatizer\n",
        "from gensim.models import Word2Vec\n",
        "import re\n",
        "import nltk\n",
        "from sklearn.feature_extraction.text import TfidfVectorizer\n",
        "from sklearn.linear_model import LogisticRegression\n",
        "from sklearn.metrics import accuracy_score, classification_report\n",
        "from sklearn.model_selection import train_test_split\n",
        "from sklearn.naive_bayes import MultinomialNB\n",
        "\n",
        "nltk.download('punkt')\n",
        "nltk.download('stopwords')\n",
        "nltk.download('wordnet')\n",
        "\n",
        "class TextProcessor:\n",
        "    \n",
        "    def __init__(self):\n",
        "        self.cv = TfidfVectorizer(binary=True, ngram_range=(2, 3))\n",
        "        self.model = LogisticRegression(multi_class='multinomial', solver='lbfgs')\n",
        "        self.nbmodel = MultinomialNB()\n",
        "    def preprocess_text(self, text):\n",
        "        lemmatizer = WordNetLemmatizer()\n",
        "        # remove words that start with a capital letter\n",
        "        text = re.sub(r'\\b[A-Z][a-z]*\\b', \"\", text)\n",
        "        # remove bracket\n",
        "        text = re.sub(r\"\\[.*?\\]\", \"\", text)\n",
        "        # remove non-alphanumeric characters from a string\n",
        "        text = re.sub(r\"\\A[^a-zA-Z0-9]+\\Z\", \"\", text)\n",
        "        # remove all the digits from a given string.\n",
        "        text = re.sub(r'\\d+', '', text)\n",
        "        # remove any text contained in square brackets from a string.\n",
        "        text = re.sub(r\"\\[.*?\\]\", \"\", text)\n",
        "        # removing all non-alphabetic characters and converting the words to lower case\n",
        "        words = ((re.sub('[^a-zA-Z]',' ',text)).lower()).split()\n",
        "        # remove stopwords from a sentence by using lemmatization\n",
        "        words = [lemmatizer.lemmatize(word) for word in words if not word in set(stopwords.words('english'))]\n",
        "        # words = [self.lemmatizer.lemmatize(word) for word in words if not word in self.stopwords]\n",
        "        return ' '.join(words)\n",
        "    \n",
        "    def preprocess_data(self, X):\n",
        "        preprocessed_X = []\n",
        "        for i in range(len(X)):\n",
        "            preprocessed_X.append(self.preprocess_text(X[i]))\n",
        "        return preprocessed_X\n",
        "    \n",
        "    def train(self, X, y):\n",
        "        X_preprocessed = self.cv.fit_transform(self.preprocess_data(X)).toarray()\n",
        "        X_train, X_test, y_train, y_test = train_test_split(X_preprocessed, y, test_size=0.2, random_state=42)\n",
        "        self.model.fit(X_train, y_train)\n",
        "        y_pred = self.model.predict(X_test)\n",
        "        print(f\"Accuracy: {accuracy_score(y_test, y_pred)}\")\n",
        "        print(f\"Classification report: \\n{classification_report(y_test, y_pred)}\")\n",
        "\n",
        "\n",
        "    def train_naive_bayes(self,X,y):\n",
        "        X_preprocessed = self.cv.fit_transform(self.preprocess_data(X)).toarray()\n",
        "        X_train, X_test, y_train, y_test = train_test_split(X_preprocessed, y, test_size=0.2, random_state=42)\n",
        "        self.nbmodel.fit(X_train, y_train)\n",
        "        # Make predictions on testing data\n",
        "        y_pred = self.nbmodel.predict(X_test)\n",
        "\n",
        "        # Print accuracy and classification report\n",
        "        print(f\"Accuracy: {accuracy_score(y_test, y_pred)}\")  \n",
        "        print(f\"Classification report: \\n{classification_report(y_test, y_pred)}\")"
      ]
    },
    {
      "cell_type": "code",
      "source": [],
      "metadata": {
        "id": "0CIFd98ZXu5W"
      },
      "execution_count": 16,
      "outputs": []
    },
    {
      "cell_type": "code",
      "source": [
        "ob = TextProcessor()\n",
        "\n"
      ],
      "metadata": {
        "id": "z0F1sDZ9Xkat"
      },
      "execution_count": 17,
      "outputs": []
    },
    {
      "cell_type": "code",
      "source": [
        "x = ob.preprocess_data(df)"
      ],
      "metadata": {
        "id": "mzqJZbu2Xncm"
      },
      "execution_count": 18,
      "outputs": []
    },
    {
      "cell_type": "code",
      "source": [
        "ob.train_naive_bayes(x,y)"
      ],
      "metadata": {
        "colab": {
          "base_uri": "https://localhost:8080/"
        },
        "id": "g8CYpoMParq-",
        "outputId": "ba630806-927a-496d-f57e-6c38660d4626"
      },
      "execution_count": 19,
      "outputs": [
        {
          "output_type": "stream",
          "name": "stdout",
          "text": [
            "Accuracy: 0.6120218579234973\n",
            "Classification report: \n",
            "              precision    recall  f1-score   support\n",
            "\n",
            "           0       1.00      0.18      0.31        50\n",
            "           1       0.59      1.00      0.74       103\n",
            "           2       0.00      0.00      0.00        22\n",
            "           3       0.00      0.00      0.00         4\n",
            "           4       0.00      0.00      0.00         4\n",
            "\n",
            "    accuracy                           0.61       183\n",
            "   macro avg       0.32      0.24      0.21       183\n",
            "weighted avg       0.61      0.61      0.50       183\n",
            "\n"
          ]
        },
        {
          "output_type": "stream",
          "name": "stderr",
          "text": [
            "/usr/local/lib/python3.10/dist-packages/sklearn/metrics/_classification.py:1344: UndefinedMetricWarning: Precision and F-score are ill-defined and being set to 0.0 in labels with no predicted samples. Use `zero_division` parameter to control this behavior.\n",
            "  _warn_prf(average, modifier, msg_start, len(result))\n",
            "/usr/local/lib/python3.10/dist-packages/sklearn/metrics/_classification.py:1344: UndefinedMetricWarning: Precision and F-score are ill-defined and being set to 0.0 in labels with no predicted samples. Use `zero_division` parameter to control this behavior.\n",
            "  _warn_prf(average, modifier, msg_start, len(result))\n",
            "/usr/local/lib/python3.10/dist-packages/sklearn/metrics/_classification.py:1344: UndefinedMetricWarning: Precision and F-score are ill-defined and being set to 0.0 in labels with no predicted samples. Use `zero_division` parameter to control this behavior.\n",
            "  _warn_prf(average, modifier, msg_start, len(result))\n"
          ]
        }
      ]
    },
    {
      "cell_type": "code",
      "source": [
        "ob.train(x,y)"
      ],
      "metadata": {
        "colab": {
          "base_uri": "https://localhost:8080/"
        },
        "id": "5JL_qSlxYLqe",
        "outputId": "93dd626c-b2be-491b-b171-b425789529c4"
      },
      "execution_count": 15,
      "outputs": [
        {
          "output_type": "stream",
          "name": "stdout",
          "text": [
            "Accuracy: 0.6010928961748634\n",
            "Classification report: \n",
            "              precision    recall  f1-score   support\n",
            "\n",
            "           0       1.00      0.14      0.25        50\n",
            "           1       0.59      1.00      0.74       103\n",
            "           2       0.00      0.00      0.00        22\n",
            "           3       0.00      0.00      0.00         4\n",
            "           4       0.00      0.00      0.00         4\n",
            "\n",
            "    accuracy                           0.60       183\n",
            "   macro avg       0.32      0.23      0.20       183\n",
            "weighted avg       0.60      0.60      0.48       183\n",
            "\n"
          ]
        },
        {
          "output_type": "stream",
          "name": "stderr",
          "text": [
            "/usr/local/lib/python3.10/dist-packages/sklearn/metrics/_classification.py:1344: UndefinedMetricWarning: Precision and F-score are ill-defined and being set to 0.0 in labels with no predicted samples. Use `zero_division` parameter to control this behavior.\n",
            "  _warn_prf(average, modifier, msg_start, len(result))\n",
            "/usr/local/lib/python3.10/dist-packages/sklearn/metrics/_classification.py:1344: UndefinedMetricWarning: Precision and F-score are ill-defined and being set to 0.0 in labels with no predicted samples. Use `zero_division` parameter to control this behavior.\n",
            "  _warn_prf(average, modifier, msg_start, len(result))\n",
            "/usr/local/lib/python3.10/dist-packages/sklearn/metrics/_classification.py:1344: UndefinedMetricWarning: Precision and F-score are ill-defined and being set to 0.0 in labels with no predicted samples. Use `zero_division` parameter to control this behavior.\n",
            "  _warn_prf(average, modifier, msg_start, len(result))\n"
          ]
        }
      ]
    },
    {
      "cell_type": "code",
      "source": [],
      "metadata": {
        "id": "ivl4hQu6YYTj"
      },
      "execution_count": null,
      "outputs": []
    }
  ]
}