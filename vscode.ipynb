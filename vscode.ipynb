{
  "nbformat": 4,
  "nbformat_minor": 0,
  "metadata": {
    "colab": {
      "provenance": [],
      "authorship_tag": "ABX9TyO/vF8ptPNtCnuiai4ZGtro",
      "include_colab_link": true
    },
    "kernelspec": {
      "name": "python3",
      "display_name": "Python 3"
    },
    "language_info": {
      "name": "python"
    }
  },
  "cells": [
    {
      "cell_type": "markdown",
      "metadata": {
        "id": "view-in-github",
        "colab_type": "text"
      },
      "source": [
        "<a href=\"https://colab.research.google.com/github/Abhishekyes/EDA/blob/main/vscode.ipynb\" target=\"_parent\"><img src=\"https://colab.research.google.com/assets/colab-badge.svg\" alt=\"Open In Colab\"/></a>"
      ]
    },
    {
      "cell_type": "code",
      "execution_count": 5,
      "metadata": {
        "colab": {
          "base_uri": "https://localhost:8080/"
        },
        "id": "dNBLW5vpRo3p",
        "outputId": "05fc5b1b-1d3b-40f7-dfa9-9ccc9c1bbbc0"
      },
      "outputs": [
        {
          "output_type": "stream",
          "name": "stdout",
          "text": [
            "Word count: 18\n",
            "Sentence count: 3\n",
            "Average word length: 3.7777777777777777\n",
            "Average sentence length: 26.666666666666668\n",
            "Vocabulary: {'this': 10, 'is': 2, 'sample': 6, 'text': 9, 'it': 3, 'has': 1, 'multiple': 4, 'sentences': 7, 'used': 11, 'for': 0, 'testing': 8, 'purposes': 5}\n"
          ]
        },
        {
          "output_type": "stream",
          "name": "stderr",
          "text": [
            "[nltk_data] Downloading package punkt to /root/nltk_data...\n",
            "[nltk_data]   Package punkt is already up-to-date!\n"
          ]
        }
      ],
      "source": [
        "import pandas as pd\n",
        "import numpy as np\n",
        "import nltk\n",
        "nltk.download('punkt')\n",
        "from nltk.corpus import stopwords\n",
        "from nltk.stem.porter import PorterStemmer\n",
        "from nltk.stem import WordNetLemmatizer\n",
        "from sklearn.feature_extraction.text import  TfidfVectorizer\n",
        "\n",
        "\n",
        "class TextAnalyzer:\n",
        "    def __init__(self, text):\n",
        "        self.text = text\n",
        "        self.sentences = nltk.sent_tokenize(text)\n",
        "        self.words = nltk.word_tokenize(text)\n",
        "        \n",
        "    def get_word_count(self):\n",
        "        return len(self.words)\n",
        "    \n",
        "    def get_sentence_count(self):\n",
        "        return len(self.sentences)\n",
        "    \n",
        "    def get_avg_word_length(self):\n",
        "        total_length = sum(len(word) for word in self.words)\n",
        "        return total_length / len(self.words)\n",
        "    \n",
        "    def get_avg_sentence_length(self):\n",
        "        total_length = sum(len(sentence) for sentence in self.sentences)\n",
        "        return total_length / len(self.sentences)\n",
        "\n",
        "class TextVectorizer:\n",
        "    def __init__(self, corpus):\n",
        "        self.corpus = corpus\n",
        "        self.vectorizer = TfidfVectorizer()\n",
        "        self.vectorizer.fit(corpus)\n",
        "        \n",
        "    def get_vectorized_corpus(self):\n",
        "        return self.vectorizer.transform(self.corpus)\n",
        "    \n",
        "    def get_vocabulary(self):\n",
        "        return self.vectorizer.vocabulary_\n",
        "\n",
        "\n",
        "\n",
        "text = \"This is a sample text. It has multiple sentences. It is used for testing purposes.\"\n",
        "analyzer = TextAnalyzer(text)\n",
        "vectorizer = TextVectorizer([text])\n",
        "\n",
        "\n",
        "print(\"Word count:\", analyzer.get_word_count())\n",
        "print(\"Sentence count:\", analyzer.get_sentence_count())\n",
        "print(\"Average word length:\", analyzer.get_avg_word_length())\n",
        "print(\"Average sentence length:\", analyzer.get_avg_sentence_length())\n",
        "\n",
        "print(\"Vocabulary:\", vectorizer.get_vocabulary())\n",
        "\n"
      ]
    },
    {
      "cell_type": "code",
      "source": [],
      "metadata": {
        "id": "1Ua1YLaiR6d_"
      },
      "execution_count": null,
      "outputs": []
    }
  ]
}